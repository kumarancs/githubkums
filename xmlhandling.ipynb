{
 "cells": [
  {
   "cell_type": "code",
   "execution_count": 4,
   "metadata": {
    "colab": {
     "base_uri": "https://localhost:8080/",
     "height": 54
    },
    "colab_type": "code",
    "id": "1_-1Q1DRs2eq",
    "outputId": "61f89f16-63bd-4d7c-cfe4-ec973593b10d"
   },
   "outputs": [
    {
     "name": "stdout",
     "output_type": "stream",
     "text": [
      "[{'title': b\"Kareena Kapoor on breakup with Shahid Kapoor during Jab We Met: 'We went our separate...\", 'description': b'Kareena Kapoor said it was Shahid Kapoor who asked her to consider working in Imtiaz Ali\\xe2\\x80\\x99s Jab We Met.', 'link': b'https://www.hindustantimes.com/bollywood/kareena-kapoor-on-breakup-with-shahid-kapoor-during-jab-we-met-we-went-our-separate-ways-this-gem-came-out-of-it/story-QaG6kgC3hYsDC7pwaP9ntN.html', 'guid': b'https://www.hindustantimes.com/bollywood/kareena-kapoor-on-breakup-with-shahid-kapoor-during-jab-we-met-we-went-our-separate-ways-this-gem-came-out-of-it/story-QaG6kgC3hYsDC7pwaP9ntN.html', 'pubDate': b'Thu, 20 Feb 2020 12:59:32 GMT ', 'media': 'https://www.hindustantimes.com/rf/image_size_630x354/HT/p2/2020/02/20/Pictures/_df02304a-53c3-11ea-a3cd-8211a7b3c8e4.jpg'}, {'title': b\"India responds to China's 'sabotage' barb over Amit Shah's Arunachal visit\", 'description': b'China had registered its objection to Amit Shah\\xe2\\x80\\x99s visit to Arunachal Pradesh, claiming that India had violated territorial sovereignty and \\xe2\\x80\\x9csabotaged\\xe2\\x80\\x9d political mutual trust with India.', 'link': b'https://www.hindustantimes.com/india-news/india-responds-to-china-s-sabotage-barb-over-amit-shah-s-arunachal-visit/story-ad7rR5Pvgh7K2I15u6ENLK.html', 'guid': b'https://www.hindustantimes.com/india-news/india-responds-to-china-s-sabotage-barb-over-amit-shah-s-arunachal-visit/story-ad7rR5Pvgh7K2I15u6ENLK.html', 'pubDate': b'Thu, 20 Feb 2020 12:37:41 GMT ', 'media': 'https://www.hindustantimes.com/rf/image_size_630x354/HT/p2/2020/02/20/Pictures/amit-shah-kondli-public-meeting_57d259a6-53dc-11ea-a3cd-8211a7b3c8e4.jpg'}, {'title': b\"'Namaste Trump' will be akin to 'Howdy Modi!' event: MEA on US President's India...\", 'description': b'The US\\xe2\\x80\\x89President Donald Trump and the First Lady Melania Trump will be coming to India for a two-day trip on February 24. The visit, a first by Trumps\\xe2\\x80\\x99 to India, is being seen as a major boost to India-US ties. ', 'link': b'https://www.hindustantimes.com/india-news/namaste-trump-will-be-similar-to-howdy-modi-event-mea-on-trump-s-india-visit/story-QjgtDq5BT37QoAnYlAGSWJ.html', 'guid': b'https://www.hindustantimes.com/india-news/namaste-trump-will-be-similar-to-howdy-modi-event-mea-on-trump-s-india-visit/story-QjgtDq5BT37QoAnYlAGSWJ.html', 'pubDate': b'Thu, 20 Feb 2020 12:15:38 GMT ', 'media': 'https://www.hindustantimes.com/rf/image_size_630x354/HT/p2/2020/02/20/Pictures/briefing-spokesman-during-indian-foreign-ministry-speaks_2e34cc7a-53d0-11ea-a3cd-8211a7b3c8e4.jpg'}, {'title': b\"'Shaheen Bagh will stay': Mediators assure protestors in search for a win-win f...\", 'description': b'Sadhana Ramachandran tried to convey that the negotiations were the best chance for the protestors as its failure will result in the matter being decided by the court. ', 'link': b'https://www.hindustantimes.com/india-news/shaheen-bagh-will-stay-interlocutors-assure-protestors-in-search-for-a-win-win-formula/story-0N4Re01WSr0Cv4il4dYbyJ.html', 'guid': b'https://www.hindustantimes.com/india-news/shaheen-bagh-will-stay-interlocutors-assure-protestors-in-search-for-a-win-win-formula/story-0N4Re01WSr0Cv4il4dYbyJ.html', 'pubDate': b'Thu, 20 Feb 2020 11:44:34 GMT ', 'media': 'https://www.hindustantimes.com/rf/image_size_630x354/HT/p2/2020/02/20/Pictures/_85e5812c-53d4-11ea-b246-02cea10d1852.jpg'}, {'title': b\"'The court is in your ball': Twitterati troll Umar Akmal, start a new hashtag in...\", 'description': b'Not just the meme-fest but a new hashtag (#UmarAkmalQuote) started trending on Twitter as soon as Akmal\\xe2\\x80\\x99s reported faux pass spread like wildfire.', 'link': b'https://www.hindustantimes.com/cricket/the-court-is-in-your-ball-twitterati-troll-umar-akmal-start-a-new-hashtag-in-his-name/story-LLjZzl4AFpluBRBINpdxLO.html', 'guid': b'https://www.hindustantimes.com/cricket/the-court-is-in-your-ball-twitterati-troll-umar-akmal-start-a-new-hashtag-in-his-name/story-LLjZzl4AFpluBRBINpdxLO.html', 'pubDate': b'Thu, 20 Feb 2020 10:21:21 GMT ', 'media': 'https://www.hindustantimes.com/rf/image_size_630x354/HT/p2/2020/02/20/Pictures/pakistan-world-west-indies-2015-icc-cricket_89dcf2fc-53c9-11ea-ac83-d06189239a09.jpg'}, {'title': b\"'Horrific, sickening': Rahul Gandhi on torture of 2 Rajasthan Dalits on video\", 'description': b'Gandhi\\xe2\\x80\\x99s tweet came hours after a widely-circulated video emerged on social media, showing the men being beaten, stripped and a screwdriver being shoved into one of them.', 'link': b'https://www.hindustantimes.com/india-news/horrific-sickening-rahul-gandhi-on-torture-of-2-rajasthan-dalits-on-video/story-35P59oLSpWVQF2aJXNWDLJ.html', 'guid': b'https://www.hindustantimes.com/india-news/horrific-sickening-rahul-gandhi-on-torture-of-2-rajasthan-dalits-on-video/story-35P59oLSpWVQF2aJXNWDLJ.html', 'pubDate': b'Thu, 20 Feb 2020 08:57:14 GMT ', 'media': 'https://www.hindustantimes.com/rf/image_size_630x354/HT/p2/2020/02/20/Pictures/parliament-session_a81e61fa-53bb-11ea-ac83-d06189239a09.jpg'}, {'title': b\"BJP's deepfake videos trigger new worry over AI use in political campaigns\", 'description': b'Deepfake refers to media \\xe2\\x80\\x93 audio or video \\xe2\\x80\\x93 created using the artificial intelligence technique of deep learning. Such media can be entirely fictional and can range from portraying a person carrying out an activity they never did or speak words that they never spoke. ', 'link': b'https://www.hindustantimes.com/india-news/bjp-s-deepfake-videos-trigger-new-worry-over-ai-use-in-political-campaigns/story-6WPlFtMAOaepkwdybm8b1O.html', 'guid': b'https://www.hindustantimes.com/india-news/bjp-s-deepfake-videos-trigger-new-worry-over-ai-use-in-political-campaigns/story-6WPlFtMAOaepkwdybm8b1O.html', 'pubDate': b'Thu, 20 Feb 2020 08:50:07 GMT ', 'media': 'https://www.hindustantimes.com/rf/image_size_630x354/HT/p2/2020/02/20/Pictures/bjp-assembly-election-rally-new-delhi_aa539578-53aa-11ea-b246-02cea10d1852.jpg'}, {'title': b\"'He's the best without a doubt': Kane Williamson names world's best all-format batsman...\", 'description': b'India vs New Zealand 1st Test: New Zealand skipper Kane Williamson named the best batsman of the world ahead of the first Test against India at Wellington on Friday.', 'link': b'https://www.hindustantimes.com/cricket/he-s-the-best-without-a-doubt-kane-williamson-names-world-s-best-all-format-batsman-ahead-of-1st-test-against-india/story-qqP86AECZvxZZbYYMtsbEL.html', 'guid': b'https://www.hindustantimes.com/cricket/he-s-the-best-without-a-doubt-kane-williamson-names-world-s-best-all-format-batsman-ahead-of-1st-test-against-india/story-qqP86AECZvxZZbYYMtsbEL.html', 'pubDate': b'Thu, 20 Feb 2020 08:40:59 GMT ', 'media': 'https://www.hindustantimes.com/rf/image_size_630x354/HT/p2/2020/02/20/Pictures/_5b4b1534-53bc-11ea-b246-02cea10d1852.JPG'}, {'title': b\"How coronavirus is stalling China's military modernisation plans |&thinsp;Opinion\", 'description': b'The epidemic has hit the PLA\\xe2\\x80\\x99s recruitment drive, and stalled production at weapons manufacturing institutes  ', 'link': b'https://www.hindustantimes.com/analysis/how-coronavirus-is-stalling-china-s-military-modernisation-plans/story-k733Qeay8VioryGr8V0aNM.html', 'guid': b'https://www.hindustantimes.com/analysis/how-coronavirus-is-stalling-china-s-military-modernisation-plans/story-k733Qeay8VioryGr8V0aNM.html', 'pubDate': b'Wed, 19 Feb 2020 01:14:00 GMT ', 'media': 'https://www.hindustantimes.com/rf/image_size_630x354/HT/p2/2020/02/19/Pictures/hong-kong-china-outbreak_0d6adb18-52b5-11ea-ac83-d06189239a09.jpg'}, {'title': b'A guide to caring for the Indian gut', 'description': b'It turns out that what works for the West may not work best for you. Gut bacteria varies from culture to culture, and scientists are only now unravelling the implications of this. ', 'link': b'https://www.hindustantimes.com/fitness/a-guide-to-caring-for-the-indian-gut/story-vdbrFbXP6ZQac5ioDnePnI.html', 'guid': b'https://www.hindustantimes.com/fitness/a-guide-to-caring-for-the-indian-gut/story-vdbrFbXP6ZQac5ioDnePnI.html', 'pubDate': b'Sat, 15 Feb 2020 10:21:02 GMT ', 'media': 'https://www.hindustantimes.com/rf/image_size_630x354/HT/p2/2020/02/14/Pictures/_033fdf8e-4f41-11ea-a16c-785555db2321.jpg'}, {'title': b'Disentangling politics and crime', 'description': b'Well-intentioned as it is, the SC order will not resolve the crisis', 'link': b'https://www.hindustantimes.com/editorials/disentangling-politics-and-crime/story-t03y9gNYNYXaq9WQbImt5L.html', 'guid': b'https://www.hindustantimes.com/editorials/disentangling-politics-and-crime/story-t03y9gNYNYXaq9WQbImt5L.html', 'pubDate': b'Thu, 13 Feb 2020 02:28:30 GMT ', 'media': 'https://www.hindustantimes.com/rf/image_size_630x354/HT/p2/2020/02/13/Pictures/maharashtra-case_3496d910-4e34-11ea-93ec-7436143f72aa.jpg'}, {'title': b'The Gargi violence must not go unpunished', 'description': b'The State must ensure that educational institutions remain safe spaces for women', 'link': b'https://www.hindustantimes.com/editorials/the-gargi-violence-must-not-go-unpunished/story-bROsHFF09X0F3yxm1T86eN.html', 'guid': b'https://www.hindustantimes.com/editorials/the-gargi-violence-must-not-go-unpunished/story-bROsHFF09X0F3yxm1T86eN.html', 'pubDate': b'Thu, 13 Feb 2020 02:19:43 GMT ', 'media': 'https://www.hindustantimes.com/rf/image_size_630x354/HT/p2/2020/02/10/Pictures/gargi-college-molestation_248fec36-4be7-11ea-93ec-7436143f72aa.jpg'}, {'title': b'Why the India-Africa bond matters', 'description': b'India\\xe2\\x80\\x99s priority is not just Africa; India\\xe2\\x80\\x99s priority is Africans \\xe2\\x80\\x94  every man, woman and child in Africa', 'link': b'https://www.hindustantimes.com/analysis/why-the-india-africa-bond-matters/story-P59WWjGjfguAeNYBYKmcBO.html', 'guid': b'https://www.hindustantimes.com/analysis/why-the-india-africa-bond-matters/story-P59WWjGjfguAeNYBYKmcBO.html', 'pubDate': b'Thu, 13 Feb 2020 02:13:44 GMT ', 'media': 'https://www.hindustantimes.com/rf/image_size_630x354/HT/p2/2020/02/13/Pictures/forum-modi-addressing-the-india-uganda-business_f54c90a6-4e6a-11ea-a16c-785555db2321.jpg'}, {'title': b'After Pulwama, India effected a doctrinal shift', 'description': b'With the emphasis on pre-emptive action, India has signalled that it will no longer accept loss of lives', 'link': b'https://www.hindustantimes.com/analysis/after-pulwama-india-effected-a-doctrinal-shift/story-LCypKPEbO2UmbX41fcPzWK.html', 'guid': b'https://www.hindustantimes.com/analysis/after-pulwama-india-effected-a-doctrinal-shift/story-LCypKPEbO2UmbX41fcPzWK.html', 'pubDate': b'Thu, 13 Feb 2020 02:07:23 GMT ', 'media': 'https://www.hindustantimes.com/rf/image_size_630x354/HT/p2/2020/02/12/Pictures/militant-attack-in-pulwama_ea20b50c-4d81-11ea-a16c-785555db2321.jpg'}, {'title': b'The anti-CAA protests have hit a wall. Here is why', 'description': b'Will protests remain an expression of citizen\\xe2\\x80\\x99s dissent or evolve into a political movement? Protesters must decide', 'link': b'https://www.hindustantimes.com/analysis/the-anti-caa-protests-have-hit-a-wall-here-is-why/story-T1wT9Ut5pioUzix0m43ZPL.html', 'guid': b'https://www.hindustantimes.com/analysis/the-anti-caa-protests-have-hit-a-wall-here-is-why/story-T1wT9Ut5pioUzix0m43ZPL.html', 'pubDate': b'Thu, 13 Feb 2020 01:56:51 GMT ', 'media': 'https://www.hindustantimes.com/rf/image_size_630x354/HT/p2/2020/02/13/Pictures/protest_dac13460-4e49-11ea-a16c-785555db2321.jpg'}]\n"
     ]
    }
   ],
   "source": [
    " \n",
    "# importing the required modules \n",
    "import csv \n",
    "import requests \n",
    "import xml.etree.ElementTree as ET \n",
    "  \n",
    "def loadRSS(): \n",
    "  \n",
    "    # url of rss feed \n",
    "    url = 'http://www.hindustantimes.com/rss/topnews/rssfeed.xml'\n",
    "  \n",
    "    # creating HTTP response object from given url \n",
    "    resp = requests.get(url) \n",
    "  \n",
    "    # saving the xml file \n",
    "    with open('topnewsfeed.xml', 'wb') as f: \n",
    "        f.write(resp.content) \n",
    "          \n",
    "  \n",
    "def parseXML(xmlfile): \n",
    "  \n",
    "    # create element tree object \n",
    "    tree = ET.parse(xmlfile) \n",
    "  \n",
    "    # get root element \n",
    "    root = tree.getroot() \n",
    "  \n",
    "    # create empty list for news items \n",
    "    newsitems = [] \n",
    "  \n",
    "    # iterate news items \n",
    "    for item in root.findall('./channel/item'): \n",
    "  \n",
    "        # empty news dictionary \n",
    "        news = {} \n",
    "  \n",
    "        # iterate child elements of item \n",
    "        for child in item: \n",
    "  \n",
    "            # special checking for namespace object content:media \n",
    "            if child.tag == '{http://search.yahoo.com/mrss/}content': \n",
    "                news['media'] = child.attrib['url'] \n",
    "            else: \n",
    "                news[child.tag] = child.text.encode('utf8') \n",
    "  \n",
    "        # append news dictionary to news items list \n",
    "        newsitems.append(news) \n",
    "      \n",
    "    # return news items list \n",
    "    return newsitems \n",
    "  \n",
    "  \n",
    "def savetoCSV(newsitems, filename): \n",
    "  \n",
    "    # specifying the fields for csv file \n",
    "    fields = ['guid', 'title', 'pubDate', 'description', 'link', 'media'] \n",
    "  \n",
    "    # writing to csv file \n",
    "    with open(filename, 'w') as csvfile: \n",
    "  \n",
    "        # creating a csv dict writer object \n",
    "        writer = csv.DictWriter(csvfile, fieldnames = fields) \n",
    "  \n",
    "        # writing headers (field names) \n",
    "        writer.writeheader() \n",
    "  \n",
    "        # writing data rows \n",
    "        writer.writerows(newsitems) \n",
    "  \n",
    "      \n",
    "def main(): \n",
    "    # load rss from web to update existing xml file \n",
    "    loadRSS() \n",
    "  \n",
    "    # parse xml file \n",
    "    newsitems = parseXML('topnewsfeed.xml') \n",
    "    print(newsitems)\n",
    "  \n",
    "    # store news items in a csv file \n",
    "    savetoCSV(newsitems, 'topnews.csv') \n",
    "      \n",
    "      \n",
    "if __name__ == \"__main__\": \n",
    "  \n",
    "    # calling main function \n",
    "    main() \n"
   ]
  },
  {
   "cell_type": "code",
   "execution_count": 12,
   "metadata": {
    "colab": {
     "base_uri": "https://localhost:8080/",
     "height": 68
    },
    "colab_type": "code",
    "id": "jqogl8ulvBSj",
    "outputId": "0cf1590b-046e-4a00-87af-c567b8982f49"
   },
   "outputs": [
    {
     "name": "stdout",
     "output_type": "stream",
     "text": [
      "<Element 'rss' at 0x7f277f0b14a8>\n",
      "['version']\n",
      "<built-in method items of xml.etree.ElementTree.Element object at 0x7f277f0b14a8>\n"
     ]
    }
   ],
   "source": [
    "import xml.etree.ElementTree as ET\n",
    "doc = ET.parse('topnewsfeed.xml')\n",
    "root = doc.getroot() # <--- this is the new line\n",
    "print(root)\n",
    "print(root.keys())\n",
    "print(root.items)\n",
    "#['operation', 'type', '\n",
    "#'sp'\n",
    "root.get(\"title\")\n",
    "#'sp'"
   ]
  },
  {
   "cell_type": "code",
   "execution_count": 13,
   "metadata": {
    "colab": {
     "base_uri": "https://localhost:8080/",
     "height": 85
    },
    "colab_type": "code",
    "id": "zCAFPCpowqi-",
    "outputId": "35fdfe5e-acd1-473d-af97-43ac51bbeda2"
   },
   "outputs": [
    {
     "name": "stdout",
     "output_type": "stream",
     "text": [
      "Collecting xmltodict\n",
      "  Downloading https://files.pythonhosted.org/packages/28/fd/30d5c1d3ac29ce229f6bdc40bbc20b28f716e8b363140c26eff19122d8a5/xmltodict-0.12.0-py2.py3-none-any.whl\n",
      "Installing collected packages: xmltodict\n",
      "Successfully installed xmltodict-0.12.0\n"
     ]
    }
   ],
   "source": [
    "pip install xmltodict"
   ]
  },
  {
   "cell_type": "code",
   "execution_count": 3,
   "metadata": {
    "colab": {
     "base_uri": "https://localhost:8080/",
     "height": 51
    },
    "colab_type": "code",
    "id": "DwVK5ezPw0hf",
    "outputId": "c08325c0-4da0-462d-d368-9f60eb1ee2f3"
   },
   "outputs": [
    {
     "name": "stdout",
     "output_type": "stream",
     "text": [
      "('{\"audience\": {\"id\": {\"@what\": \"attribute\", \"#text\": \"123\"}, \"name\": '\n",
      " '\"Shubham\"}}')\n"
     ]
    }
   ],
   "source": [
    "import xmltodict\n",
    "import pprint\n",
    "import json\n",
    "\n",
    "my_xml = \"\"\"\n",
    "    <audience>\n",
    "      <id what=\"attribute\">123</id>\n",
    "      <name>Shubham</name>\n",
    "    </audience>\n",
    "\"\"\"\n",
    "\n",
    "pp = pprint.PrettyPrinter(indent=4)\n",
    "pp.pprint(json.dumps(xmltodict.parse(my_xml)))"
   ]
  },
  {
   "cell_type": "code",
   "execution_count": null,
   "metadata": {},
   "outputs": [],
   "source": []
  },
  {
   "cell_type": "code",
   "execution_count": null,
   "metadata": {},
   "outputs": [],
   "source": []
  },
  {
   "cell_type": "code",
   "execution_count": null,
   "metadata": {},
   "outputs": [],
   "source": []
  }
 ],
 "metadata": {
  "colab": {
   "collapsed_sections": [],
   "name": "xmlhandling.ipynb",
   "provenance": []
  },
  "kernelspec": {
   "display_name": "Python 3",
   "language": "python",
   "name": "python3"
  },
  "language_info": {
   "codemirror_mode": {
    "name": "ipython",
    "version": 3
   },
   "file_extension": ".py",
   "mimetype": "text/x-python",
   "name": "python",
   "nbconvert_exporter": "python",
   "pygments_lexer": "ipython3",
   "version": "3.7.0"
  }
 },
 "nbformat": 4,
 "nbformat_minor": 1
}
